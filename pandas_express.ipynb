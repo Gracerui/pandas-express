{
 "cells": [
  {
   "cell_type": "markdown",
   "metadata": {},
   "source": [
    "#Pandas Express \n",
    "###An express guide to becoming a Kung Fu Pandas master"
   ]
  },
  {
   "cell_type": "markdown",
   "metadata": {},
   "source": [
    "<img src=\"http://vignette1.wikia.nocookie.net/kungfupanda/images/8/88/Po2.jpg/revision/latest?cb=20100726062228\" width=\"300\" height=\"200\"/>"
   ]
  },
  {
   "cell_type": "code",
   "execution_count": 7,
   "metadata": {
    "collapsed": true
   },
   "outputs": [],
   "source": [
    "import pandas as pd\n",
    "import numpy as np\n",
    "import matplotlib as plt\n",
    "\n",
    "%matplotlib inline "
   ]
  },
  {
   "cell_type": "code",
   "execution_count": 9,
   "metadata": {
    "collapsed": false
   },
   "outputs": [],
   "source": [
    "def load_json(json_file):\n",
    "    with open(json_file) as file:\n",
    "        data = file.readlines()\n",
    "\n",
    "    # Remove the trailing \"\\n\" from each line\n",
    "    data = map(lambda x: x.rstrip(), data)\n",
    "\n",
    "    # Combine rows into a comma separated JSON array\n",
    "    formatted_data = \"[\" + ','.join(data) + \"]\"\n",
    "\n",
    "    # Load into pandas\n",
    "    df = pd.read_json(formatted_data)\n",
    "    \n",
    "    return df"
   ]
  },
  {
   "cell_type": "code",
   "execution_count": 10,
   "metadata": {
    "collapsed": false
   },
   "outputs": [],
   "source": [
    "business_df = load_json('data/business.json')"
   ]
  },
  {
   "cell_type": "code",
   "execution_count": 13,
   "metadata": {
    "collapsed": false
   },
   "outputs": [
    {
     "data": {
      "text/html": [
       "<div>\n",
       "<table border=\"1\" class=\"dataframe\">\n",
       "  <thead>\n",
       "    <tr style=\"text-align: right;\">\n",
       "      <th></th>\n",
       "      <th>attributes</th>\n",
       "      <th>business_id</th>\n",
       "      <th>categories</th>\n",
       "      <th>city</th>\n",
       "      <th>full_address</th>\n",
       "      <th>hours</th>\n",
       "      <th>latitude</th>\n",
       "      <th>longitude</th>\n",
       "      <th>name</th>\n",
       "      <th>neighborhoods</th>\n",
       "      <th>open</th>\n",
       "      <th>review_count</th>\n",
       "      <th>stars</th>\n",
       "      <th>state</th>\n",
       "      <th>type</th>\n",
       "    </tr>\n",
       "  </thead>\n",
       "  <tbody>\n",
       "    <tr>\n",
       "      <th>0</th>\n",
       "      <td>{u'By Appointment Only': True}</td>\n",
       "      <td>vcNAWiLM4dR7D2nwwJ7nCA</td>\n",
       "      <td>[Doctors, Health &amp; Medical]</td>\n",
       "      <td>Phoenix</td>\n",
       "      <td>4840 E Indian School Rd\\nSte 101\\nPhoenix, AZ ...</td>\n",
       "      <td>{u'Thursday': {u'close': u'17:00', u'open': u'...</td>\n",
       "      <td>33.499313</td>\n",
       "      <td>-111.983758</td>\n",
       "      <td>Eric Goldberg, MD</td>\n",
       "      <td>[]</td>\n",
       "      <td>True</td>\n",
       "      <td>9</td>\n",
       "      <td>3.5</td>\n",
       "      <td>AZ</td>\n",
       "      <td>business</td>\n",
       "    </tr>\n",
       "    <tr>\n",
       "      <th>1</th>\n",
       "      <td>{u'Happy Hour': True, u'Accepts Credit Cards':...</td>\n",
       "      <td>UsFtqoBl7naz8AVUBZMjQQ</td>\n",
       "      <td>[Nightlife]</td>\n",
       "      <td>Dravosburg</td>\n",
       "      <td>202 McClure St\\nDravosburg, PA 15034</td>\n",
       "      <td>{}</td>\n",
       "      <td>40.350519</td>\n",
       "      <td>-79.886930</td>\n",
       "      <td>Clancy's Pub</td>\n",
       "      <td>[]</td>\n",
       "      <td>True</td>\n",
       "      <td>4</td>\n",
       "      <td>3.5</td>\n",
       "      <td>PA</td>\n",
       "      <td>business</td>\n",
       "    </tr>\n",
       "    <tr>\n",
       "      <th>2</th>\n",
       "      <td>{u'Good for Kids': True}</td>\n",
       "      <td>cE27W9VPgO88Qxe4ol6y_g</td>\n",
       "      <td>[Active Life, Mini Golf, Golf]</td>\n",
       "      <td>Bethel Park</td>\n",
       "      <td>1530 Hamilton Rd\\nBethel Park, PA 15234</td>\n",
       "      <td>{}</td>\n",
       "      <td>40.356896</td>\n",
       "      <td>-80.015910</td>\n",
       "      <td>Cool Springs Golf Center</td>\n",
       "      <td>[]</td>\n",
       "      <td>False</td>\n",
       "      <td>5</td>\n",
       "      <td>2.5</td>\n",
       "      <td>PA</td>\n",
       "      <td>business</td>\n",
       "    </tr>\n",
       "    <tr>\n",
       "      <th>3</th>\n",
       "      <td>{}</td>\n",
       "      <td>HZdLhv6COCleJMo7nPl-RA</td>\n",
       "      <td>[Shopping, Home Services, Internet Service Pro...</td>\n",
       "      <td>Pittsburgh</td>\n",
       "      <td>301 S Hills Vlg\\nPittsburgh, PA 15241</td>\n",
       "      <td>{u'Monday': {u'close': u'21:00', u'open': u'10...</td>\n",
       "      <td>40.357620</td>\n",
       "      <td>-80.059980</td>\n",
       "      <td>Verizon Wireless</td>\n",
       "      <td>[]</td>\n",
       "      <td>True</td>\n",
       "      <td>3</td>\n",
       "      <td>3.5</td>\n",
       "      <td>PA</td>\n",
       "      <td>business</td>\n",
       "    </tr>\n",
       "    <tr>\n",
       "      <th>4</th>\n",
       "      <td>{u'Alcohol': u'full_bar', u'Noise Level': u'av...</td>\n",
       "      <td>mVHrayjG3uZ_RLHkLj-AMg</td>\n",
       "      <td>[Bars, American (New), Nightlife, Lounges, Res...</td>\n",
       "      <td>Braddock</td>\n",
       "      <td>414 Hawkins Ave\\nBraddock, PA 15104</td>\n",
       "      <td>{u'Tuesday': {u'close': u'19:00', u'open': u'1...</td>\n",
       "      <td>40.408735</td>\n",
       "      <td>-79.866351</td>\n",
       "      <td>Emil's Lounge</td>\n",
       "      <td>[]</td>\n",
       "      <td>True</td>\n",
       "      <td>11</td>\n",
       "      <td>4.5</td>\n",
       "      <td>PA</td>\n",
       "      <td>business</td>\n",
       "    </tr>\n",
       "  </tbody>\n",
       "</table>\n",
       "</div>"
      ],
      "text/plain": [
       "                                          attributes             business_id  \\\n",
       "0                     {u'By Appointment Only': True}  vcNAWiLM4dR7D2nwwJ7nCA   \n",
       "1  {u'Happy Hour': True, u'Accepts Credit Cards':...  UsFtqoBl7naz8AVUBZMjQQ   \n",
       "2                           {u'Good for Kids': True}  cE27W9VPgO88Qxe4ol6y_g   \n",
       "3                                                 {}  HZdLhv6COCleJMo7nPl-RA   \n",
       "4  {u'Alcohol': u'full_bar', u'Noise Level': u'av...  mVHrayjG3uZ_RLHkLj-AMg   \n",
       "\n",
       "                                          categories         city  \\\n",
       "0                        [Doctors, Health & Medical]      Phoenix   \n",
       "1                                        [Nightlife]   Dravosburg   \n",
       "2                     [Active Life, Mini Golf, Golf]  Bethel Park   \n",
       "3  [Shopping, Home Services, Internet Service Pro...   Pittsburgh   \n",
       "4  [Bars, American (New), Nightlife, Lounges, Res...     Braddock   \n",
       "\n",
       "                                        full_address  \\\n",
       "0  4840 E Indian School Rd\\nSte 101\\nPhoenix, AZ ...   \n",
       "1               202 McClure St\\nDravosburg, PA 15034   \n",
       "2            1530 Hamilton Rd\\nBethel Park, PA 15234   \n",
       "3              301 S Hills Vlg\\nPittsburgh, PA 15241   \n",
       "4                414 Hawkins Ave\\nBraddock, PA 15104   \n",
       "\n",
       "                                               hours   latitude   longitude  \\\n",
       "0  {u'Thursday': {u'close': u'17:00', u'open': u'...  33.499313 -111.983758   \n",
       "1                                                 {}  40.350519  -79.886930   \n",
       "2                                                 {}  40.356896  -80.015910   \n",
       "3  {u'Monday': {u'close': u'21:00', u'open': u'10...  40.357620  -80.059980   \n",
       "4  {u'Tuesday': {u'close': u'19:00', u'open': u'1...  40.408735  -79.866351   \n",
       "\n",
       "                       name neighborhoods   open  review_count  stars state  \\\n",
       "0         Eric Goldberg, MD            []   True             9    3.5    AZ   \n",
       "1              Clancy's Pub            []   True             4    3.5    PA   \n",
       "2  Cool Springs Golf Center            []  False             5    2.5    PA   \n",
       "3          Verizon Wireless            []   True             3    3.5    PA   \n",
       "4             Emil's Lounge            []   True            11    4.5    PA   \n",
       "\n",
       "       type  \n",
       "0  business  \n",
       "1  business  \n",
       "2  business  \n",
       "3  business  \n",
       "4  business  "
      ]
     },
     "execution_count": 13,
     "metadata": {},
     "output_type": "execute_result"
    }
   ],
   "source": [
    "business_df.head()"
   ]
  },
  {
   "cell_type": "code",
   "execution_count": 15,
   "metadata": {
    "collapsed": false
   },
   "outputs": [
    {
     "data": {
      "text/html": [
       "<div>\n",
       "<table border=\"1\" class=\"dataframe\">\n",
       "  <thead>\n",
       "    <tr style=\"text-align: right;\">\n",
       "      <th></th>\n",
       "      <th>latitude</th>\n",
       "      <th>longitude</th>\n",
       "      <th>open</th>\n",
       "      <th>review_count</th>\n",
       "      <th>stars</th>\n",
       "    </tr>\n",
       "  </thead>\n",
       "  <tbody>\n",
       "    <tr>\n",
       "      <th>count</th>\n",
       "      <td>61184.000000</td>\n",
       "      <td>61184.000000</td>\n",
       "      <td>61184</td>\n",
       "      <td>61184.000000</td>\n",
       "      <td>61184.000000</td>\n",
       "    </tr>\n",
       "    <tr>\n",
       "      <th>mean</th>\n",
       "      <td>37.326077</td>\n",
       "      <td>-97.491803</td>\n",
       "      <td>0.878089</td>\n",
       "      <td>28.272506</td>\n",
       "      <td>3.673305</td>\n",
       "    </tr>\n",
       "    <tr>\n",
       "      <th>std</th>\n",
       "      <td>5.741085</td>\n",
       "      <td>29.624473</td>\n",
       "      <td>0.3271856</td>\n",
       "      <td>88.652050</td>\n",
       "      <td>0.891207</td>\n",
       "    </tr>\n",
       "    <tr>\n",
       "      <th>min</th>\n",
       "      <td>32.871923</td>\n",
       "      <td>-115.386550</td>\n",
       "      <td>False</td>\n",
       "      <td>3.000000</td>\n",
       "      <td>1.000000</td>\n",
       "    </tr>\n",
       "    <tr>\n",
       "      <th>25%</th>\n",
       "      <td>33.509601</td>\n",
       "      <td>-115.052224</td>\n",
       "      <td>1</td>\n",
       "      <td>4.000000</td>\n",
       "      <td>3.000000</td>\n",
       "    </tr>\n",
       "    <tr>\n",
       "      <th>50%</th>\n",
       "      <td>35.994636</td>\n",
       "      <td>-111.932944</td>\n",
       "      <td>1</td>\n",
       "      <td>8.000000</td>\n",
       "      <td>3.500000</td>\n",
       "    </tr>\n",
       "    <tr>\n",
       "      <th>75%</th>\n",
       "      <td>36.240430</td>\n",
       "      <td>-80.863329</td>\n",
       "      <td>1</td>\n",
       "      <td>21.000000</td>\n",
       "      <td>4.500000</td>\n",
       "    </tr>\n",
       "    <tr>\n",
       "      <th>max</th>\n",
       "      <td>56.036545</td>\n",
       "      <td>8.549249</td>\n",
       "      <td>True</td>\n",
       "      <td>4578.000000</td>\n",
       "      <td>5.000000</td>\n",
       "    </tr>\n",
       "  </tbody>\n",
       "</table>\n",
       "</div>"
      ],
      "text/plain": [
       "           latitude     longitude       open  review_count         stars\n",
       "count  61184.000000  61184.000000      61184  61184.000000  61184.000000\n",
       "mean      37.326077    -97.491803   0.878089     28.272506      3.673305\n",
       "std        5.741085     29.624473  0.3271856     88.652050      0.891207\n",
       "min       32.871923   -115.386550      False      3.000000      1.000000\n",
       "25%       33.509601   -115.052224          1      4.000000      3.000000\n",
       "50%       35.994636   -111.932944          1      8.000000      3.500000\n",
       "75%       36.240430    -80.863329          1     21.000000      4.500000\n",
       "max       56.036545      8.549249       True   4578.000000      5.000000"
      ]
     },
     "execution_count": 15,
     "metadata": {},
     "output_type": "execute_result"
    }
   ],
   "source": [
    "business_df.describe()"
   ]
  },
  {
   "cell_type": "code",
   "execution_count": 24,
   "metadata": {
    "collapsed": false
   },
   "outputs": [
    {
     "data": {
      "text/plain": [
       "array([u'AZ', u'PA', u'NC', u'SC', u'WI', u'IL', u'NV', u'WA', u'CA',\n",
       "       u'QC', u'ON', u'EDH', u'MLN', u'ELN', u'HAM', u'SCB', u'FIF',\n",
       "       u'XGL', u'NTH', u'BW', u'RP', u'KHL', u'MN', u'MA', u'NW', u'OR'], dtype=object)"
      ]
     },
     "execution_count": 24,
     "metadata": {},
     "output_type": "execute_result"
    }
   ],
   "source": [
    "business_df['state'].unique()"
   ]
  },
  {
   "cell_type": "code",
   "execution_count": null,
   "metadata": {
    "collapsed": false
   },
   "outputs": [],
   "source": []
  },
  {
   "cell_type": "code",
   "execution_count": null,
   "metadata": {
    "collapsed": true
   },
   "outputs": [],
   "source": []
  }
 ],
 "metadata": {
  "kernelspec": {
   "display_name": "Python 2",
   "language": "python",
   "name": "python2"
  },
  "language_info": {
   "codemirror_mode": {
    "name": "ipython",
    "version": 2
   },
   "file_extension": ".py",
   "mimetype": "text/x-python",
   "name": "python",
   "nbconvert_exporter": "python",
   "pygments_lexer": "ipython2",
   "version": "2.7.10"
  }
 },
 "nbformat": 4,
 "nbformat_minor": 0
}
